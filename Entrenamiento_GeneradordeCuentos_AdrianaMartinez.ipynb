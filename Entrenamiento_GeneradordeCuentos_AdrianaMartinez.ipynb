{
  "nbformat": 4,
  "nbformat_minor": 0,
  "metadata": {
    "colab": {
      "provenance": [],
      "machine_shape": "hm",
      "gpuType": "A100",
      "authorship_tag": "ABX9TyNlGCcsLvwP4Jbn3v5iF3PJ",
      "include_colab_link": true
    },
    "kernelspec": {
      "name": "python3",
      "display_name": "Python 3"
    },
    "language_info": {
      "name": "python"
    },
    "accelerator": "GPU"
  },
  "cells": [
    {
      "cell_type": "markdown",
      "metadata": {
        "id": "view-in-github",
        "colab_type": "text"
      },
      "source": [
        "<a href=\"https://colab.research.google.com/github/adrianaleticiamartinez/mcd_deep_learning/blob/main/Entrenamiento_GeneradordeCuentos_AdrianaMartinez.ipynb\" target=\"_parent\"><img src=\"https://colab.research.google.com/assets/colab-badge.svg\" alt=\"Open In Colab\"/></a>"
      ]
    },
    {
      "cell_type": "code",
      "source": [],
      "metadata": {
        "id": "YlRptVlF9tS-"
      },
      "execution_count": null,
      "outputs": []
    },
    {
      "cell_type": "markdown",
      "source": [
        "# Entrenamiento de un Generador de Cuentos Infantiles con LSTM\n",
        "\n",
        "### Adriana Leticia Martinez Estrada\n",
        "###Universidad Panamericana\n",
        "\n",
        "El notebook desarrolla la implementación de un modelo de **Red Neuronal Recurrente** (RNN) empleando **LSTM** con el propósito de generar relatos infantiles en idioma inglés. El modelo es entrenado utilizando un corpus de texto compuesto por cuentos infantiles, con el propósito de aprender a producir texto a partir de una secuencia inicial dada. El propósito es que, después del proceso de entrenamiento, el modelo pueda producir nuevas secuencias de texto que mantengan el estilo y la coherencia del corpus de entrenamiento.\n",
        ".\n",
        "\n",
        "## Objetivos del Notebook\n",
        "1. **Entrenamiento del modelo LSTM**: Entrenar un modelo LSTM con 180 épocas, utilizando un corpus de cuentos infantiles.\n",
        "2. **Monitoreo del proceso de entrenamiento**: Graficar el valor de pérdida (*loss*) durante el entrenamiento para analizar la convergencia del modelo.\n",
        "3. **Generación de texto**: Utilizar el modelo entrenado para generar nuevas secuencias de texto basadas en una secuencia inicial proporcionada.\n",
        "\n",
        "## Descripción del Proceso\n",
        "\n",
        "### 1. **Configuración del entorno**\n",
        "   - Se importan las librerías necesarias: `torch`, `numpy`, `pickle`, y `matplotlib` para la construcción, entrenamiento, y visualización de los resultados del modelo.\n",
        "   - Se configura el dispositivo de cómputo para aprovechar GPU si está disponible.\n",
        "\n",
        "### 2. **Parámetros del modelo**\n",
        "   - `n_hidden`: Número de unidades en las capas ocultas del modelo LSTM (512).\n",
        "   - `n_layers`: Número de capas en el modelo LSTM (2).\n",
        "   - `batch_size`: Tamaño de cada lote de datos (128).\n",
        "   - `seq_length`: Longitud de las secuencias de entrada que el modelo verá durante el entrenamiento (100).\n",
        "   - `epochs`: Número total de épocas para el entrenamiento (180).\n",
        "   - `lr`: Tasa de aprendizaje para el optimizador Adam (0.001).\n",
        "   - `clip`: Valor máximo para los gradientes (5) para evitar la explosión de gradientes.\n",
        "   - `top_k`: Número de predicciones más probables a considerar al generar texto.\n",
        "\n",
        "### 3. **Construcción del Modelo LSTM**\n",
        "   - Se define una clase `LSTM` utilizando `torch.nn.Module`. La clase contiene tres componentes:\n",
        "     1. Una capa LSTM con las dimensiones configuradas.\n",
        "     2. Una capa de dropout para regularización.\n",
        "     3. Una capa densa completamente conectada para generar la predicción del siguiente carácter en la secuencia.\n",
        "\n",
        "### 4. **Preprocesamiento de Datos**\n",
        "   - Se implementa una función `one_hot_encode` para codificar los datos en un formato *one-hot*, que es el formato que acepta el modelo LSTM.\n",
        "   - La función `get_batches` genera los lotes de datos de entrada y sus correspondientes etiquetas.\n",
        "\n",
        "### 5. **Entrenamiento del Modelo**\n",
        "   - La función `train` se encarga del entrenamiento del modelo. Se utiliza el optimizador **Adam** y la función de pérdida **CrossEntropyLoss**.\n",
        "   - Se guarda el valor de pérdida (*loss*) por cada época y se imprime en pantalla.\n",
        "   - Al final del entrenamiento, los pesos del modelo entrenado se guardan en un archivo `.pth`.\n",
        "\n",
        "### 6. **Predicción y Pruebas de Generación**\n",
        "   - La función `predict` genera el siguiente carácter basándose en el estado actual del modelo.\n",
        "   - La función `sample3` genera una secuencia de texto a partir de una secuencia inicial (por ejemplo, \"Once upon a time\"). La longitud de la secuencia generada se puede ajustar.\n",
        "\n",
        "### 7. **Visualización de la Pérdida**\n",
        "   - Se utiliza `matplotlib` para graficar el valor de la pérdida (*loss*) a lo largo de las épocas de entrenamiento. Esto permite visualizar la convergencia del modelo y detectar posibles problemas, como el sobreajuste.\n",
        "\n",
        "### 8. **Resultados**\n",
        "   - El modelo genera nuevas secuencias de texto basadas en la entrada proporcionada por el usuario. A continuación se muestran ejemplos de las secuencias generadas tras 180 épocas de entrenamiento.\n",
        "\n",
        "\n",
        "## Conclusión\n",
        "\n",
        "Se ofrece el entrenamiento de un modelo completo para crear texto usando LSTM, que fue entrenado con historias para niños. El modelo puede crear nuevas frases siguiendo una frase inicial dada.\n",
        "\n",
        "El monitoreo del valor de pérdida durante el entrenamiento permite asegurar que el modelo converge adecuadamente. Además, el modelo es flexible, permitiendo el uso de diferentes configuraciones para la longitud de la secuencia generada y el número de épocas de entrenamiento.\n",
        "\n",
        "##Consideraciones previas a correr el modelo\n",
        "Este notebook requiere de los archivos de caracteres. Debido al tamaño del encoded, no ha sido posible cargarlo a algun repositorio remoto. si se requiere el archivo favor de solicitarlo vía correo electrónico a *0268379@up.edu.mx*"
      ],
      "metadata": {
        "id": "nfs8sipi8nEf"
      }
    },
    {
      "cell_type": "code",
      "execution_count": null,
      "metadata": {
        "id": "g8rJpP4NU6iy"
      },
      "outputs": [],
      "source": [
        "# Importar las librerías necesarias\n",
        "import torch\n",
        "import torch.nn as nn\n",
        "import numpy as np\n",
        "import torch.optim as optim\n",
        "import torch.nn.functional as F\n",
        "import base64\n",
        "import requests\n",
        "import pickle"
      ]
    },
    {
      "cell_type": "code",
      "source": [
        "# Configurar el dispositivo para GPU si está disponible\n",
        "device = torch.device(\"cuda\" if torch.cuda.is_available() else \"cpu\")"
      ],
      "metadata": {
        "id": "QfNXj-uAVMLo"
      },
      "execution_count": null,
      "outputs": []
    },
    {
      "cell_type": "code",
      "source": [
        "# Parámetros del modelo\n",
        "# ------------------------------\n",
        "# n_hidden: Número de unidades en las capas ocultas.\n",
        "n_hidden = 512\n",
        "\n",
        "# n_layers: Número de capas en el modelo LSTM.\n",
        "n_layers = 2\n",
        "\n",
        "# batch_size: Número de ejemplos que se procesan en cada paso de entrenamiento\n",
        "batch_size = 128\n",
        "\n",
        "# seq_length: Longitud de las secuencias de entrada (en términos de caracteres) que el modelo verá durante el entrenamiento.\n",
        "seq_length = 100\n",
        "\n",
        "# epochs: Número de veces que todo el conjunto de datos será utilizado para entrenar el modelo\n",
        "#epochs = 60\n",
        "epochs = 180\n",
        "\n",
        "# lr (learning rate): Tasa de aprendizaje, determina el tamaño de los pasos que da el modelo para ajustar sus pesos\n",
        "lr = 0.001\n",
        "\n",
        "# clip: Valor para \"recortar\" los gradientes y prevenir que se vuelvan demasiado grandes, lo que puede causar inestabilidad en el entrenamiento.\n",
        "clip = 5\n",
        "\n",
        "# top_k: Número de predicciones más probables a considerar al generar nuevo texto. Valores bajos generan texto más \"creativo\", pero menos coherente.\n",
        "top_k = 5\n"
      ],
      "metadata": {
        "id": "OOzwur_cVOVr"
      },
      "execution_count": null,
      "outputs": []
    },
    {
      "cell_type": "code",
      "source": [
        "# Definir el modelo LSTM\n",
        "class LSTM(nn.Module):\n",
        "    def __init__(self, chars, n_hidden=n_hidden, n_layers=n_layers, drop_prob=0.5):\n",
        "        super(LSTM, self).__init__()\n",
        "        self.n_hidden = n_hidden\n",
        "        self.n_layers = n_layers\n",
        "        self.n_chars = len(chars)\n",
        "\n",
        "        self.lstm = nn.LSTM(self.n_chars, n_hidden, n_layers, dropout=drop_prob, batch_first=True)\n",
        "        self.dropout = nn.Dropout(drop_prob)\n",
        "        self.fc = nn.Linear(n_hidden, self.n_chars)\n",
        "\n",
        "    def forward(self, x, hidden):\n",
        "        r_output, hidden = self.lstm(x, hidden)\n",
        "        out = self.dropout(r_output)\n",
        "        out = out.contiguous().view(-1, self.n_hidden)\n",
        "        out = self.fc(out)\n",
        "        return out, hidden\n",
        "\n",
        "    def init_hidden(self, batch_size):\n",
        "        weight = next(self.parameters()).data\n",
        "        hidden = (weight.new(self.n_layers, batch_size, self.n_hidden).zero_().to(device),\n",
        "                  weight.new(self.n_layers, batch_size, self.n_hidden).zero_().to(device))\n",
        "        return hidden"
      ],
      "metadata": {
        "id": "JhY-X3H8VjLp"
      },
      "execution_count": null,
      "outputs": []
    },
    {
      "cell_type": "code",
      "source": [
        "# Función para one-hot encoder\n",
        "def one_hot_encode(arr, n_labels):\n",
        "    one_hot = np.zeros((np.multiply(*arr.shape), n_labels), dtype=np.float32)\n",
        "    one_hot[np.arange(one_hot.shape[0]), arr.flatten()] = 1.\n",
        "    one_hot = one_hot.reshape((*arr.shape, n_labels))\n",
        "    return one_hot"
      ],
      "metadata": {
        "id": "a-GjJxhUVli-"
      },
      "execution_count": null,
      "outputs": []
    },
    {
      "cell_type": "code",
      "source": [
        "# Crear batches para el entrenamiento\n",
        "def get_batches(arr, batch_size, seq_length):\n",
        "    batch_size_total = batch_size * seq_length\n",
        "    n_batches = len(arr) // batch_size_total\n",
        "    arr = arr[:n_batches * batch_size_total]\n",
        "    arr = arr.reshape((batch_size, -1))\n",
        "\n",
        "    for n in range(0, arr.shape[1], seq_length):\n",
        "        x = arr[:, n:n+seq_length]\n",
        "        y = np.zeros_like(x)\n",
        "        try:\n",
        "            y[:, :-1], y[:, -1] = x[:, 1:], arr[:, n+seq_length]\n",
        "        except IndexError:\n",
        "            y[:, :-1], y[:, -1] = x[:, 1:], arr[:, 0]\n",
        "        yield x, y\n"
      ],
      "metadata": {
        "id": "iFe9AF5FVpuF"
      },
      "execution_count": null,
      "outputs": []
    },
    {
      "cell_type": "code",
      "source": [
        "import matplotlib.pyplot as plt\n",
        "\n",
        "# Función modificada para entrenar el modelo y almacenar la pérdida en cada época\n",
        "def train(model, data, epochs=epochs, batch_size=batch_size, seq_length=seq_length, lr=lr, clip=clip):\n",
        "    model.train()\n",
        "    optimizer = torch.optim.Adam(model.parameters(), lr=lr)\n",
        "    criterion = nn.CrossEntropyLoss()\n",
        "\n",
        "    # Lista para almacenar el valor de pérdida en cada época\n",
        "    all_losses = []\n",
        "\n",
        "    for epoch in range(epochs):\n",
        "        h = model.init_hidden(batch_size)  # Inicializa el estado oculto al comienzo de cada época\n",
        "        epoch_loss = 0\n",
        "        batch_count = 0\n",
        "\n",
        "        for x, y in get_batches(data, batch_size, seq_length):\n",
        "            x = one_hot_encode(x, model.n_chars)\n",
        "            inputs, targets = torch.from_numpy(x), torch.from_numpy(y)\n",
        "            inputs, targets = inputs.to(device), targets.to(device)\n",
        "\n",
        "            # Desvincular el estado oculto de su historial de gradientes anterior\n",
        "            h = tuple([each.detach() for each in h])\n",
        "\n",
        "            model.zero_grad()  # Resetear los gradientes\n",
        "            output, h = model(inputs, h)\n",
        "            loss = criterion(output, targets.view(batch_size * seq_length).long())\n",
        "            loss.backward()\n",
        "\n",
        "            # Evitar la explosión de gradientes\n",
        "            nn.utils.clip_grad_norm_(model.parameters(), clip)\n",
        "            optimizer.step()\n",
        "\n",
        "            # Acumular el valor de la pérdida\n",
        "            epoch_loss += loss.item()\n",
        "            batch_count += 1\n",
        "\n",
        "        # Promedio de pérdida por época\n",
        "        avg_loss = epoch_loss / batch_count\n",
        "        all_losses.append(avg_loss)  # Guardar la pérdida promedio de la época\n",
        "\n",
        "        print(f\"Epoch: {epoch+1}/{epochs}... Loss: {avg_loss}\")\n",
        "\n",
        "    return all_losses  # Devolver todas las pérdidas\n"
      ],
      "metadata": {
        "id": "617-H2okWAHK"
      },
      "execution_count": null,
      "outputs": []
    },
    {
      "cell_type": "code",
      "source": [
        "def predict(model, char, device, h=None, top_k=5):\n",
        "\n",
        "    # Convertir el caracter a su índice entero correspondiente\n",
        "    x = np.array([[model.char2int[char]]])\n",
        "\n",
        "    # Codificar el índice entero en formato one-hot\n",
        "    x = one_hot_encode(x, model.n_chars)\n",
        "\n",
        "    # Convertir el array de NumPy a un tensor de PyTorch y moverlo al dispositivo especificado (CPU o GPU)\n",
        "    inputs = torch.from_numpy(x).to(device)\n",
        "\n",
        "    # Desactivar el cálculo del gradiente para la predicción\n",
        "    with torch.no_grad():\n",
        "        out, h = model(inputs, h)\n",
        "\n",
        "        # Aplicar softmax para obtener las probabilidades de salida\n",
        "        p = F.softmax(out, dim=1).data.cpu()\n",
        "\n",
        "        # Obtener los top k caracteres más probables y sus probabilidades\n",
        "        p, top_ch = p.topk(top_k)\n",
        "\n",
        "        # Convertir los top k caracteres y probabilidades a arrays de NumPy\n",
        "        top_ch = top_ch.numpy().squeeze()\n",
        "        p = p.numpy().squeeze()\n",
        "\n",
        "        # Elegir aleatoriamente el siguiente carácter de los top k caracteres basándonos en sus probabilidades\n",
        "        char = np.random.choice(top_ch, p=p/p.sum())\n",
        "\n",
        "    # Devolver el carácter predicho y el estado oculto actualizado\n",
        "    return model.int2char[char], h"
      ],
      "metadata": {
        "id": "eEsV_LXs2Bdj"
      },
      "execution_count": null,
      "outputs": []
    },
    {
      "cell_type": "code",
      "source": [
        "def sample3(model, size, device, prime='A', top_k=top_k):\n",
        "    # Método para generar un nuevo texto basado en una secuencia inicial \"prime\".\n",
        "    # Esencialmente, esta función es un ciclo que llama al método \"predict\" definido anteriormente.\n",
        "    model.eval()  # Cambiar el modelo a modo de evaluación (eval mode)\n",
        "\n",
        "    # Calcular el estado oculto del modelo utilizando los caracteres iniciales (prime)\n",
        "    chars = [ch for ch in prime]  # Crear una lista de los caracteres iniciales\n",
        "    with torch.no_grad():  # Desactivar el cálculo del gradiente para hacer predicciones\n",
        "        # Inicializar el estado oculto con ceros al principio. El tamaño del batch es 1\n",
        "        # ya que deseamos generar una sola secuencia de texto.\n",
        "        h = model.init_hidden(batch_size=1)\n",
        "\n",
        "        # Procesar cada carácter de la secuencia inicial prime\n",
        "        for ch in prime:\n",
        "            char, h = predict(model, ch, device, h=h, top_k=top_k)\n",
        "\n",
        "        # Añadir el carácter generado a la secuencia\n",
        "        chars.append(char)\n",
        "\n",
        "        # Ahora, se toma el último carácter de la secuencia y se obtiene el siguiente.\n",
        "        # Este proceso se repite segun lo especificado\n",
        "        for ii in range(size):\n",
        "            char, h = predict(model, chars[-1], device, h=h, top_k=top_k)\n",
        "            chars.append(char)\n",
        "\n",
        "    # Unir la lista de caracteres\n",
        "    return ''.join(chars)"
      ],
      "metadata": {
        "id": "Lo-sjyn817WJ"
      },
      "execution_count": null,
      "outputs": []
    },
    {
      "cell_type": "code",
      "source": [
        "# Importar `chars`\n",
        "with open('chars60.pkl', 'rb') as f:\n",
        "    chars = pickle.load(f)\n",
        "\n",
        "# Importar los diccionarios de mapeo\n",
        "with open('char2int60.pkl', 'rb') as f:\n",
        "    char2int = pickle.load(f)\n",
        "\n",
        "with open('int2char60.pkl', 'rb') as f:\n",
        "    int2char = pickle.load(f)\n",
        "\n",
        "with open('encoded60.pkl', 'rb') as f:\n",
        "    encoded = pickle.load(f)"
      ],
      "metadata": {
        "id": "nq4Qwbyp2X9A"
      },
      "execution_count": null,
      "outputs": []
    },
    {
      "cell_type": "code",
      "source": [
        "# Configurar el modelo\n",
        "model = LSTM(chars, n_hidden=n_hidden, n_layers=n_layers).to(device)\n",
        "model.int2char = int2char\n",
        "model.char2int = char2int"
      ],
      "metadata": {
        "id": "QiIJE3XHWNev"
      },
      "execution_count": null,
      "outputs": []
    },
    {
      "cell_type": "code",
      "source": [
        "# Entrenar el modelo y obtener las pérdidas por época\n",
        "losses = train(model, encoded)"
      ],
      "metadata": {
        "id": "ApqhoRn1rZ1J",
        "colab": {
          "base_uri": "https://localhost:8080/"
        },
        "outputId": "8945588a-9444-40ce-9fb0-9c7d7f3b61ae"
      },
      "execution_count": null,
      "outputs": [
        {
          "output_type": "stream",
          "name": "stdout",
          "text": [
            "Epoch: 1/180... Loss: 1.9251654581522315\n",
            "Epoch: 2/180... Loss: 1.444470554925921\n",
            "Epoch: 3/180... Loss: 1.3444659283223828\n",
            "Epoch: 4/180... Loss: 1.2954201129858425\n",
            "Epoch: 5/180... Loss: 1.2653237344774049\n",
            "Epoch: 6/180... Loss: 1.2445989227265082\n",
            "Epoch: 7/180... Loss: 1.2291445885790753\n",
            "Epoch: 8/180... Loss: 1.217017750119387\n",
            "Epoch: 9/180... Loss: 1.2067412267041595\n",
            "Epoch: 10/180... Loss: 1.198377799032925\n",
            "Epoch: 11/180... Loss: 1.1913383598620064\n",
            "Epoch: 12/180... Loss: 1.184775490933873\n",
            "Epoch: 13/180... Loss: 1.1791734293345666\n",
            "Epoch: 14/180... Loss: 1.1741420033577834\n",
            "Epoch: 15/180... Loss: 1.1696330558075028\n",
            "Epoch: 16/180... Loss: 1.1655642820687706\n",
            "Epoch: 17/180... Loss: 1.161924142637599\n",
            "Epoch: 18/180... Loss: 1.1584865908151276\n",
            "Epoch: 19/180... Loss: 1.1553783772585537\n",
            "Epoch: 20/180... Loss: 1.15236800700165\n",
            "Epoch: 21/180... Loss: 1.1494394191663166\n",
            "Epoch: 22/180... Loss: 1.1469387024902133\n",
            "Epoch: 23/180... Loss: 1.144500800456213\n",
            "Epoch: 24/180... Loss: 1.1421707981220623\n",
            "Epoch: 25/180... Loss: 1.1400152605973435\n",
            "Epoch: 26/180... Loss: 1.1379619361611273\n",
            "Epoch: 27/180... Loss: 1.1359468923044742\n",
            "Epoch: 28/180... Loss: 1.134413796685664\n",
            "Epoch: 29/180... Loss: 1.1325827155900987\n",
            "Epoch: 30/180... Loss: 1.1309698482180417\n",
            "Epoch: 31/180... Loss: 1.129231249510272\n",
            "Epoch: 32/180... Loss: 1.1275583447443231\n",
            "Epoch: 33/180... Loss: 1.1262570447259312\n",
            "Epoch: 34/180... Loss: 1.1249247643168787\n",
            "Epoch: 35/180... Loss: 1.1235041874221925\n",
            "Epoch: 36/180... Loss: 1.1221077128107169\n",
            "Epoch: 37/180... Loss: 1.1208622847987952\n",
            "Epoch: 38/180... Loss: 1.1197248444390089\n",
            "Epoch: 39/180... Loss: 1.1185630688231638\n",
            "Epoch: 40/180... Loss: 1.117446543352774\n",
            "Epoch: 41/180... Loss: 1.1163166280234411\n",
            "Epoch: 42/180... Loss: 1.1151153299029688\n",
            "Epoch: 43/180... Loss: 1.1141358513259172\n",
            "Epoch: 44/180... Loss: 1.1130197061615086\n",
            "Epoch: 45/180... Loss: 1.1120829633687703\n",
            "Epoch: 46/180... Loss: 1.1110431901802855\n",
            "Epoch: 47/180... Loss: 1.1100185280001358\n",
            "Epoch: 48/180... Loss: 1.109280111419692\n",
            "Epoch: 49/180... Loss: 1.108324667240711\n",
            "Epoch: 50/180... Loss: 1.107519248773219\n",
            "Epoch: 51/180... Loss: 1.1066454479631702\n",
            "Epoch: 52/180... Loss: 1.1057533293552184\n",
            "Epoch: 53/180... Loss: 1.1049122181493738\n",
            "Epoch: 54/180... Loss: 1.1039721474928015\n",
            "Epoch: 55/180... Loss: 1.1032020504095676\n",
            "Epoch: 56/180... Loss: 1.1025961459205207\n",
            "Epoch: 57/180... Loss: 1.1017275081856528\n",
            "Epoch: 58/180... Loss: 1.1011406119833602\n",
            "Epoch: 59/180... Loss: 1.1004386237625485\n",
            "Epoch: 60/180... Loss: 1.0997349470667308\n",
            "Epoch: 61/180... Loss: 1.0990592036885822\n",
            "Epoch: 62/180... Loss: 1.0984622506385153\n",
            "Epoch: 63/180... Loss: 1.0978290069386718\n",
            "Epoch: 64/180... Loss: 1.0971931880794568\n",
            "Epoch: 65/180... Loss: 1.0966399946857304\n",
            "Epoch: 66/180... Loss: 1.0959711295642305\n",
            "Epoch: 67/180... Loss: 1.095339385379987\n",
            "Epoch: 68/180... Loss: 1.0947902180972475\n",
            "Epoch: 69/180... Loss: 1.094399545383692\n",
            "Epoch: 70/180... Loss: 1.0936978440708451\n",
            "Epoch: 71/180... Loss: 1.0933067080971595\n",
            "Epoch: 72/180... Loss: 1.0927653596159514\n",
            "Epoch: 73/180... Loss: 1.0921551128651232\n",
            "Epoch: 74/180... Loss: 1.0917033213697775\n",
            "Epoch: 75/180... Loss: 1.0911693733386014\n",
            "Epoch: 76/180... Loss: 1.0906911438636397\n",
            "Epoch: 77/180... Loss: 1.0902493215621787\n",
            "Epoch: 78/180... Loss: 1.0898563146441989\n",
            "Epoch: 79/180... Loss: 1.0892695415303466\n",
            "Epoch: 80/180... Loss: 1.0888738533731397\n",
            "Epoch: 81/180... Loss: 1.088411076644783\n",
            "Epoch: 82/180... Loss: 1.087925068129586\n",
            "Epoch: 83/180... Loss: 1.0878098665250555\n",
            "Epoch: 84/180... Loss: 1.087171096154238\n",
            "Epoch: 85/180... Loss: 1.0868448718020853\n",
            "Epoch: 86/180... Loss: 1.0861545701945976\n",
            "Epoch: 87/180... Loss: 1.0860584023896982\n",
            "Epoch: 88/180... Loss: 1.085402327798335\n",
            "Epoch: 89/180... Loss: 1.0850561646108186\n",
            "Epoch: 90/180... Loss: 1.0847320284354074\n",
            "Epoch: 91/180... Loss: 1.0844199139722746\n",
            "Epoch: 92/180... Loss: 1.084054950853164\n",
            "Epoch: 93/180... Loss: 1.083525192454103\n",
            "Epoch: 94/180... Loss: 1.0832604075850771\n",
            "Epoch: 95/180... Loss: 1.0830626453416368\n",
            "Epoch: 96/180... Loss: 1.082559934023474\n",
            "Epoch: 97/180... Loss: 1.082030746157984\n",
            "Epoch: 98/180... Loss: 1.081765214776217\n",
            "Epoch: 99/180... Loss: 1.0817225336730107\n",
            "Epoch: 100/180... Loss: 1.081373023225906\n",
            "Epoch: 101/180... Loss: 1.0808054020765876\n",
            "Epoch: 102/180... Loss: 1.0805906132702834\n",
            "Epoch: 103/180... Loss: 1.0801691600169347\n",
            "Epoch: 104/180... Loss: 1.0799120699658113\n",
            "Epoch: 105/180... Loss: 1.0794562656381104\n",
            "Epoch: 106/180... Loss: 1.0794355015134036\n",
            "Epoch: 107/180... Loss: 1.0790958743966714\n",
            "Epoch: 108/180... Loss: 1.0787148516676452\n",
            "Epoch: 109/180... Loss: 1.0782515890756448\n",
            "Epoch: 110/180... Loss: 1.0781247626258077\n",
            "Epoch: 111/180... Loss: 1.07785224265539\n",
            "Epoch: 112/180... Loss: 1.0774595327908465\n",
            "Epoch: 113/180... Loss: 1.0771988243125705\n",
            "Epoch: 114/180... Loss: 1.0769198236238673\n",
            "Epoch: 115/180... Loss: 1.0767611686667156\n",
            "Epoch: 116/180... Loss: 1.076495813860911\n",
            "Epoch: 117/180... Loss: 1.0760795103295127\n",
            "Epoch: 118/180... Loss: 1.075873857147255\n",
            "Epoch: 119/180... Loss: 1.0755947459027526\n",
            "Epoch: 120/180... Loss: 1.0755671021786142\n",
            "Epoch: 121/180... Loss: 1.0749646400629504\n",
            "Epoch: 122/180... Loss: 1.074967229097746\n",
            "Epoch: 123/180... Loss: 1.074638745513219\n",
            "Epoch: 124/180... Loss: 1.0742727774702414\n",
            "Epoch: 125/180... Loss: 1.074157792725163\n",
            "Epoch: 126/180... Loss: 1.074119143402472\n",
            "Epoch: 127/180... Loss: 1.0735612291567616\n",
            "Epoch: 128/180... Loss: 1.0734190790912834\n",
            "Epoch: 129/180... Loss: 1.073267850992229\n",
            "Epoch: 130/180... Loss: 1.0729135677721982\n",
            "Epoch: 131/180... Loss: 1.0727821101384407\n",
            "Epoch: 132/180... Loss: 1.072393610271554\n",
            "Epoch: 133/180... Loss: 1.0722035162141534\n",
            "Epoch: 134/180... Loss: 1.0718895075318213\n",
            "Epoch: 135/180... Loss: 1.0718172124688408\n",
            "Epoch: 136/180... Loss: 1.0715271177817047\n",
            "Epoch: 137/180... Loss: 1.0714108776091336\n",
            "Epoch: 138/180... Loss: 1.0712529602128364\n",
            "Epoch: 139/180... Loss: 1.0710275864720493\n",
            "Epoch: 140/180... Loss: 1.0708511792524287\n",
            "Epoch: 141/180... Loss: 1.0702825689942428\n",
            "Epoch: 142/180... Loss: 1.0702879687722247\n",
            "Epoch: 143/180... Loss: 1.0700538832046214\n",
            "Epoch: 144/180... Loss: 1.0698712992578634\n",
            "Epoch: 145/180... Loss: 1.0697308461716835\n",
            "Epoch: 146/180... Loss: 1.0693631553381346\n",
            "Epoch: 147/180... Loss: 1.0692087496923415\n",
            "Epoch: 148/180... Loss: 1.0691529269958469\n",
            "Epoch: 149/180... Loss: 1.068840464229727\n",
            "Epoch: 150/180... Loss: 1.0686410199267993\n",
            "Epoch: 151/180... Loss: 1.0683827325608464\n",
            "Epoch: 152/180... Loss: 1.068365899731728\n",
            "Epoch: 153/180... Loss: 1.0681657257754453\n",
            "Epoch: 154/180... Loss: 1.067867176329836\n",
            "Epoch: 155/180... Loss: 1.0677218267108979\n",
            "Epoch: 156/180... Loss: 1.067490260353375\n",
            "Epoch: 157/180... Loss: 1.0674614704147596\n",
            "Epoch: 158/180... Loss: 1.067075900500349\n",
            "Epoch: 159/180... Loss: 1.0672231086055388\n",
            "Epoch: 160/180... Loss: 1.0668939807835747\n",
            "Epoch: 161/180... Loss: 1.066628444403671\n",
            "Epoch: 162/180... Loss: 1.0664900508481958\n",
            "Epoch: 163/180... Loss: 1.0663123732066722\n",
            "Epoch: 164/180... Loss: 1.066118753224947\n",
            "Epoch: 165/180... Loss: 1.0660603831199293\n",
            "Epoch: 166/180... Loss: 1.0659973114840826\n",
            "Epoch: 167/180... Loss: 1.0657573436318113\n",
            "Epoch: 168/180... Loss: 1.0654457344280763\n",
            "Epoch: 169/180... Loss: 1.0657516144244035\n",
            "Epoch: 170/180... Loss: 1.065087811370964\n",
            "Epoch: 171/180... Loss: 1.0651520384715705\n",
            "Epoch: 172/180... Loss: 1.0647153916287333\n",
            "Epoch: 173/180... Loss: 1.0644468790449397\n",
            "Epoch: 174/180... Loss: 1.0646341443061829\n",
            "Epoch: 175/180... Loss: 1.0643659190033494\n",
            "Epoch: 176/180... Loss: 1.0641640438902213\n",
            "Epoch: 177/180... Loss: 1.0642077331250541\n",
            "Epoch: 178/180... Loss: 1.0639425531794342\n",
            "Epoch: 179/180... Loss: 1.0636979240798234\n",
            "Epoch: 180/180... Loss: 1.063642381129784\n"
          ]
        }
      ]
    },
    {
      "cell_type": "code",
      "source": [
        "# Guardar el modelo entrenado\n",
        "model_save_path = \"lstm_cuentos_infantiles_180epoch.pth\"\n",
        "torch.save(model.state_dict(), model_save_path)"
      ],
      "metadata": {
        "id": "ZdxvQRVbitAR"
      },
      "execution_count": null,
      "outputs": []
    },
    {
      "cell_type": "code",
      "source": [
        "# prime: Texto inicial con el que comienza la generación de nuevo texto.\n",
        "# ---- Cambiar aqui para pruebas c: ----\n",
        "prime = \"Once upon a time\""
      ],
      "metadata": {
        "id": "KlBAGt9A-aK5"
      },
      "execution_count": null,
      "outputs": []
    },
    {
      "cell_type": "code",
      "source": [
        "# Generar un cuento\n",
        "#generated_text = sample(model, 500)\n",
        "generated_text = sample3(model, 1000, device, prime=prime)\n",
        "print(generated_text)"
      ],
      "metadata": {
        "id": "_hcQa8kqWQg-",
        "colab": {
          "base_uri": "https://localhost:8080/"
        },
        "outputId": "643f2a88-7cd3-481e-b907-e7d417210098"
      },
      "execution_count": null,
      "outputs": [
        {
          "output_type": "stream",
          "name": "stdout",
          "text": [
            "Once upon a time.\"\n",
            "\"I am ashamed of,\" said Momotaro.\n",
            "His face was suddenly charged, and set his shining forehead to his head. \"I should have been a pardon on that town that was the same.\"\n",
            "\"Yes, I was not so sorry. The mischief ought to have seen; but that was a great pleasure to me in some subject of his sensation and transformed into a trick. He started another. If you were the same permanent man to the means of allowing to be angry in my heart, I had no more trickle of adventure for him, and I was angry with me a little. The mischief stepped to the courtyard at the same time, and watched me there. I was thinking of it, and that how much the master was to say to you,\" said Mr. Courtes, \"a man which I want your father.\"\n",
            "\"This is the same with a starved flower with a great delight and annoyance,\" said the patient.\n",
            "\"I have been so terrible there, that your part were the beloved old four children,\" said the crash. \"I am sure it is the people in the world; I shall still see this. That's the sound that thro\n"
          ]
        }
      ]
    },
    {
      "cell_type": "markdown",
      "source": [
        "### Gráfica del Entrenamiento\n",
        "\n",
        "La siguiente gráfica muestra la pérdida (*loss*) en cada época durante el entrenamiento del modelo:\n",
        "\n",
        "La tendencia descendente indica que el modelo está mejorando con el tiempo, ajustando sus parámetros para reducir el error en cada iteración.\n",
        "\n",
        "\n"
      ],
      "metadata": {
        "id": "a7rTa4rfVisW"
      }
    },
    {
      "cell_type": "code",
      "source": [
        "import matplotlib.pyplot as plt\n",
        "\n",
        "# Graficar las pérdidas por época\n",
        "plt.figure(figsize=(10, 6))\n",
        "plt.plot(losses, label=\"Loss\")\n",
        "plt.title(\"Pérdida por Época durante el Entrenamiento\")\n",
        "plt.xlabel(\"Época\")\n",
        "plt.ylabel(\"Pérdida (Loss)\")\n",
        "plt.legend()\n",
        "plt.show()"
      ],
      "metadata": {
        "id": "gCkaTSaDzfbe",
        "colab": {
          "base_uri": "https://localhost:8080/",
          "height": 589
        },
        "outputId": "822eaa70-1dcf-4bc1-b04a-7eceef8de582"
      },
      "execution_count": null,
      "outputs": [
        {
          "output_type": "display_data",
          "data": {
            "text/plain": [
              "<Figure size 1000x600 with 1 Axes>"
            ],
            "image/png": "[encoded data removed]"
          },
          "metadata": {}
        }
      ]
    }
  ]
}